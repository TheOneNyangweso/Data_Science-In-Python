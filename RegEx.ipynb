{
 "cells": [
  {
   "cell_type": "code",
   "execution_count": 1,
   "metadata": {},
   "outputs": [],
   "source": [
    "import re"
   ]
  },
  {
   "cell_type": "code",
   "execution_count": 6,
   "metadata": {},
   "outputs": [],
   "source": [
    "s1 = 'My name is Sammy Nyangweso, I am 12 years amd  my phone no. is +254112686783'"
   ]
  },
  {
   "cell_type": "code",
   "execution_count": 7,
   "metadata": {},
   "outputs": [
    {
     "name": "stdout",
     "output_type": "stream",
     "text": [
      "<re.Match object; span=(11, 16), match='Sammy'>\n"
     ]
    }
   ],
   "source": [
    "pattern1 = r'Sammy'\n",
    "result = re.search(pattern1, s1)\n",
    "print(result)"
   ]
  },
  {
   "cell_type": "code",
   "execution_count": 8,
   "metadata": {},
   "outputs": [
    {
     "name": "stdout",
     "output_type": "stream",
     "text": [
      "<re.Match object; span=(64, 68), match='2541'>\n"
     ]
    }
   ],
   "source": [
    "# Using special sequences for pattern matching\n",
    "pattern2 = r'\\d\\d\\d\\d' # Searches for 4 consecutive digit characters.\n",
    "result = re.search(pattern2, s1)\n",
    "print(result)"
   ]
  },
  {
   "cell_type": "code",
   "execution_count": 14,
   "metadata": {},
   "outputs": [
    {
     "name": "stdout",
     "output_type": "stream",
     "text": [
      "The non-word characters in the string s1 are : [' ', ' ', ' ', ' ', ',', ' ', ' ', ' ', ' ', ' ', ' ', ' ', ' ', ' ', '.', ' ', ' ', '+']\n"
     ]
    }
   ],
   "source": [
    "# using findall() to find all occurences of a pattern\n",
    "pattern3 = r'\\W'\n",
    "result = re.findall(pattern3, s1)\n",
    "print(f'The non-word characters in the string s1 are : {result}')"
   ]
  },
  {
   "cell_type": "code",
   "execution_count": 15,
   "metadata": {},
   "outputs": [
    {
     "name": "stdout",
     "output_type": "stream",
     "text": [
      "['My', 'name', 'is', 'Sammy', 'Nyangweso,', 'I', 'am', '12', 'years', 'amd', '', 'my', 'phone', 'no.', 'is', '+254112686783']\n"
     ]
    }
   ],
   "source": [
    "# Use the split function to split the string by the \"\\s\"\n",
    "split_array = re.split(\"\\s\", s1)\n",
    "\n",
    "# The split_array contains all the substrings, split by whitespace characters\n",
    "print(split_array) "
   ]
  },
  {
   "cell_type": "code",
   "execution_count": 16,
   "metadata": {},
   "outputs": [
    {
     "name": "stdout",
     "output_type": "stream",
     "text": [
      "My name is Sam Nyangweso, I am 12 years amd  my phone no. is +254112686783\n"
     ]
    }
   ],
   "source": [
    "# using sub() to replace all occurences of a pattern\n",
    "# defining regex to search for\n",
    "pattern4 = 'Sammy'\n",
    "# defining the replacement string\n",
    "replacement = 'Sam'\n",
    "\n",
    "new_str = re.sub(pattern4, replacement, s1, flags = re.IGNORECASE)\n",
    "print(new_str)\n"
   ]
  },
  {
   "cell_type": "code",
   "execution_count": 22,
   "metadata": {},
   "outputs": [
    {
     "data": {
      "text/plain": [
       "['My',\n",
       " 'name',\n",
       " 'is',\n",
       " 'Sam',\n",
       " 'Nyangweso,',\n",
       " 'I',\n",
       " 'am',\n",
       " '12',\n",
       " 'years',\n",
       " 'amd',\n",
       " '',\n",
       " 'my',\n",
       " 'phone',\n",
       " 'no.',\n",
       " 'is',\n",
       " '+254112686783']"
      ]
     },
     "execution_count": 22,
     "metadata": {},
     "output_type": "execute_result"
    }
   ],
   "source": [
    "new_str.split(' ')"
   ]
  },
  {
   "cell_type": "code",
   "execution_count": 23,
   "metadata": {},
   "outputs": [
    {
     "data": {
      "text/plain": [
       "'My name is Sam Nyangweso, I am 12 years amd  my phone no. is +254112686783'"
      ]
     },
     "execution_count": 23,
     "metadata": {},
     "output_type": "execute_result"
    }
   ],
   "source": [
    "new_str"
   ]
  },
  {
   "cell_type": "code",
   "execution_count": 24,
   "metadata": {},
   "outputs": [
    {
     "data": {
      "text/plain": [
       "['My',\n",
       " 'name',\n",
       " 'is',\n",
       " 'Sam',\n",
       " 'Nyangweso,',\n",
       " 'I',\n",
       " 'am',\n",
       " '12',\n",
       " 'years',\n",
       " 'amd',\n",
       " 'my',\n",
       " 'phone',\n",
       " 'no.',\n",
       " 'is',\n",
       " '+254112686783']"
      ]
     },
     "execution_count": 24,
     "metadata": {},
     "output_type": "execute_result"
    }
   ],
   "source": [
    "new_str.split()"
   ]
  },
  {
   "cell_type": "code",
   "execution_count": 25,
   "metadata": {},
   "outputs": [
    {
     "data": {
      "text/plain": [
       "1"
      ]
     },
     "execution_count": 25,
     "metadata": {},
     "output_type": "execute_result"
    }
   ],
   "source": [
    "int(True)"
   ]
  },
  {
   "cell_type": "code",
   "execution_count": 26,
   "metadata": {},
   "outputs": [],
   "source": [
    "set1 = {1, 2, 3, 4, 4, 1, 6}"
   ]
  },
  {
   "cell_type": "code",
   "execution_count": 27,
   "metadata": {},
   "outputs": [
    {
     "data": {
      "text/plain": [
       "{1, 2, 3, 4, 6}"
      ]
     },
     "execution_count": 27,
     "metadata": {},
     "output_type": "execute_result"
    }
   ],
   "source": [
    "set1"
   ]
  },
  {
   "cell_type": "code",
   "execution_count": 2,
   "metadata": {},
   "outputs": [
    {
     "name": "stdout",
     "output_type": "stream",
     "text": [
      "Breakfast = sandwich\n"
     ]
    }
   ],
   "source": [
    "breakfast = {'milk porridge': [age for age in range(0, 10)],\n",
    "             'sandwich': [age for age in range(10, 15)],\n",
    "             'burger': [age for age in range(15, 18)]}\n",
    "age_sam = 10\n",
    "for bf, v in breakfast.items():\n",
    "    for age in v:\n",
    "        if age_sam == age:\n",
    "            print(f'Breakfast = {bf}')\n"
   ]
  },
  {
   "cell_type": "code",
   "execution_count": 7,
   "metadata": {},
   "outputs": [
    {
     "name": "stdout",
     "output_type": "stream",
     "text": [
      "10\n",
      "9.5\n",
      "10\n",
      "8\n",
      "7.5\n"
     ]
    }
   ],
   "source": [
    "PlayListRatings = [10, 9.5, 10, 8, 7.5, 5, 10, 10]\n",
    "i = 0\n",
    "while(PlayListRatings[i] >= 6):\n",
    "    print(PlayListRatings[i])\n",
    "    i += 1 "
   ]
  },
  {
   "cell_type": "code",
   "execution_count": 9,
   "metadata": {},
   "outputs": [
    {
     "name": "stdout",
     "output_type": "stream",
     "text": [
      "['orange', 'orange']\n"
     ]
    }
   ],
   "source": [
    "squares = ['orange', 'orange', 'purple', 'blue ', 'orange']\n",
    "new_squares = []\n",
    "i = 0\n",
    "while(squares[i] == 'orange'):\n",
    "    new_squares.append(squares[i])\n",
    "    i += 1\n",
    "print(new_squares)"
   ]
  },
  {
   "cell_type": "code",
   "execution_count": 14,
   "metadata": {},
   "outputs": [
    {
     "name": "stdout",
     "output_type": "stream",
     "text": [
      "Multiplication table of 6 :\n",
      "6 * 0 = 0\n",
      "6 * 1 = 6\n",
      "6 * 2 = 12\n",
      "6 * 3 = 18\n",
      "6 * 4 = 24\n",
      "6 * 5 = 30\n",
      "6 * 6 = 36\n",
      "6 * 7 = 42\n",
      "6 * 8 = 48\n",
      "6 * 9 = 54\n",
      "Multiplication table of 7 :\n",
      "7 * 0 = 0\n",
      "7 * 1 = 7\n",
      "7 * 2 = 14\n",
      "7 * 3 = 21\n",
      "7 * 4 = 28\n",
      "7 * 5 = 35\n",
      "7 * 6 = 42\n",
      "7 * 7 = 49\n",
      "7 * 8 = 56\n",
      "7 * 9 = 63\n"
     ]
    }
   ],
   "source": [
    "\n",
    "table = [6,7]\n",
    "for val in table:\n",
    "    print(f'Multiplication table of {val} :')\n",
    "    for i in range(10):\n",
    "        print(f'{val} * {i} = {val * i}')"
   ]
  },
  {
   "cell_type": "code",
   "execution_count": 29,
   "metadata": {},
   "outputs": [
    {
     "name": "stdout",
     "output_type": "stream",
     "text": [
      "['giraffe', 'gorilla', 'parrots']\n",
      "['lion', 'giraffe', 'gorilla', 'parrots', 'crocodile', 'deer', 'swan']\n"
     ]
    }
   ],
   "source": [
    "# Write your code here\n",
    "animals = [\"lion\", \"giraffe\", \"gorilla\", \"parrots\", \"crocodile\",\"deer\", \"swan\"]\n",
    "animals_with_seven_letters = []\n",
    "i = 0\n",
    "while(i < len(animals)):\n",
    "    if len(animals[i]) == 7:\n",
    "        animals_with_seven_letters.append(animals[i])\n",
    "    i += 1  \n",
    "\n",
    "print(animals_with_seven_letters, animals, sep = '\\n')"
   ]
  },
  {
   "cell_type": "code",
   "execution_count": 34,
   "metadata": {},
   "outputs": [
    {
     "name": "stdout",
     "output_type": "stream",
     "text": [
      "(0, 'A')\n",
      "(1, 'B')\n",
      "(2, 'C')\n"
     ]
    }
   ],
   "source": [
    "for x in enumerate(['A','B','C']):\n",
    "    print(x)"
   ]
  },
  {
   "cell_type": "code",
   "execution_count": 35,
   "metadata": {},
   "outputs": [
    {
     "data": {
      "text/plain": [
       "['orange', 'orange', 'purple', 'blue ', 'orange']"
      ]
     },
     "execution_count": 35,
     "metadata": {},
     "output_type": "execute_result"
    }
   ],
   "source": [
    "squares"
   ]
  },
  {
   "cell_type": "code",
   "execution_count": 38,
   "metadata": {},
   "outputs": [
    {
     "name": "stdout",
     "output_type": "stream",
     "text": [
      "{'orange': 3, 'purple': 1, 'blue ': 1}\n"
     ]
    }
   ],
   "source": [
    "cnt = {}\n",
    "for colour in squares:    \n",
    "    cnt[colour] = squares.count(colour)\n",
    "\n",
    "print(cnt)"
   ]
  },
  {
   "cell_type": "code",
   "execution_count": null,
   "metadata": {},
   "outputs": [],
   "source": []
  }
 ],
 "metadata": {
  "kernelspec": {
   "display_name": "Python 3",
   "language": "python",
   "name": "python3"
  },
  "language_info": {
   "codemirror_mode": {
    "name": "ipython",
    "version": 3
   },
   "file_extension": ".py",
   "mimetype": "text/x-python",
   "name": "python",
   "nbconvert_exporter": "python",
   "pygments_lexer": "ipython3",
   "version": "3.10.6"
  },
  "orig_nbformat": 4
 },
 "nbformat": 4,
 "nbformat_minor": 2
}

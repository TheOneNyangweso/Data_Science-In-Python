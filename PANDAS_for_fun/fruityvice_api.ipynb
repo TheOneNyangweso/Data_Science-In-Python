{
 "cells": [
  {
   "attachments": {},
   "cell_type": "markdown",
   "metadata": {},
   "source": [
    "### Fruityvice API\n",
    "Fruityvice is a webservice that provides data for all kinds of fruits<br>\n",
    "Let's extract some information for fun"
   ]
  },
  {
   "cell_type": "code",
   "execution_count": 1,
   "metadata": {},
   "outputs": [],
   "source": [
    "import pandas as pd\n",
    "from randomuser import RandomUser\n",
    "import json\n",
    "import requests"
   ]
  },
  {
   "cell_type": "code",
   "execution_count": 2,
   "metadata": {},
   "outputs": [],
   "source": [
    "r = RandomUser()"
   ]
  },
  {
   "cell_type": "code",
   "execution_count": 6,
   "metadata": {},
   "outputs": [
    {
     "name": "stdout",
     "output_type": "stream",
     "text": [
      "<method-wrapper '__repr__' of RandomUser object at 0x7f890d1b9450>\n"
     ]
    }
   ],
   "source": [
    "print(r.__repr__)"
   ]
  },
  {
   "cell_type": "code",
   "execution_count": 10,
   "metadata": {},
   "outputs": [],
   "source": [
    "name_list = r.generate_users(10)"
   ]
  },
  {
   "attachments": {},
   "cell_type": "markdown",
   "metadata": {},
   "source": [
    "To get full name...the appropriate <b>get_param</b> will be <b>get_full_name()</b> "
   ]
  },
  {
   "cell_type": "code",
   "execution_count": 15,
   "metadata": {},
   "outputs": [],
   "source": [
    "r.get_full_name()\n",
    "r.get_id_number()\n",
    "r.get"
   ]
  },
  {
   "attachments": {},
   "cell_type": "markdown",
   "metadata": {},
   "source": [
    "You can also loop to get the users stored in the list created above"
   ]
  },
  {
   "cell_type": "code",
   "execution_count": 17,
   "metadata": {},
   "outputs": [
    {
     "name": "stdout",
     "output_type": "stream",
     "text": [
      "None Sabine Rebmann sabine.rebmann@example.com\n",
      "03038123792 Marcus Tvedt marcus.tvedt@example.com\n",
      "62214889 Clazina Van der Weijden clazina.vanderweijden@example.com\n",
      "None Volker Rempel volker.rempel@example.com\n",
      "756.7661.0863.95 Hans-Ulrich Schmitt hans-ulrich.schmitt@example.com\n",
      "8019268T Scarlett Phillips scarlett.phillips@example.com\n",
      "None Rosl Uhrig rosl.uhrig@example.com\n",
      "1NNaN37106985 21 Elio Fournier elio.fournier@example.com\n",
      "None Gerhart Häfele gerhart.hafele@example.com\n",
      "None Georgios Buß georgios.buss@example.com\n"
     ]
    }
   ],
   "source": [
    "for name in name_list:\n",
    "    # show id, full name and email using the appropriate get methods\n",
    "    print(f'{name.get_id_number()} {name.get_full_name()} {name.get_email()}', end='\\n', sep='    ')\n",
    "    "
   ]
  },
  {
   "cell_type": "code",
   "execution_count": 19,
   "metadata": {},
   "outputs": [
    {
     "name": "stdout",
     "output_type": "stream",
     "text": [
      "https://randomuser.me/api/portraits/women/15.jpg\n",
      "https://randomuser.me/api/portraits/men/70.jpg\n",
      "https://randomuser.me/api/portraits/women/88.jpg\n",
      "https://randomuser.me/api/portraits/men/8.jpg\n",
      "https://randomuser.me/api/portraits/men/43.jpg\n",
      "https://randomuser.me/api/portraits/women/7.jpg\n",
      "https://randomuser.me/api/portraits/women/78.jpg\n",
      "https://randomuser.me/api/portraits/men/92.jpg\n",
      "https://randomuser.me/api/portraits/men/78.jpg\n",
      "https://randomuser.me/api/portraits/men/52.jpg\n"
     ]
    }
   ],
   "source": [
    "# To get picture of five users\n",
    "for name in name_list:\n",
    "    print(name.get_picture())"
   ]
  },
  {
   "attachments": {},
   "cell_type": "markdown",
   "metadata": {},
   "source": [
    "We can now store the data in a table...that's where pandas comes in.<br>\n",
    "This is how one can create a dummy data for testing your code"
   ]
  },
  {
   "cell_type": "code",
   "execution_count": 21,
   "metadata": {},
   "outputs": [],
   "source": [
    "def get_users():\n",
    "    users = []\n",
    "    \n",
    "    for user in RandomUser.generate_users(10):\n",
    "        data = {'Name' : user.get_full_name(), 'Gender' : user.get_gender(), 'Email' : user.get_email()}\n",
    "        users.append(data)\n",
    "    \n",
    "    return users"
   ]
  },
  {
   "cell_type": "code",
   "execution_count": 22,
   "metadata": {},
   "outputs": [
    {
     "data": {
      "text/html": [
       "<div>\n",
       "<style scoped>\n",
       "    .dataframe tbody tr th:only-of-type {\n",
       "        vertical-align: middle;\n",
       "    }\n",
       "\n",
       "    .dataframe tbody tr th {\n",
       "        vertical-align: top;\n",
       "    }\n",
       "\n",
       "    .dataframe thead th {\n",
       "        text-align: right;\n",
       "    }\n",
       "</style>\n",
       "<table border=\"1\" class=\"dataframe\">\n",
       "  <thead>\n",
       "    <tr style=\"text-align: right;\">\n",
       "      <th></th>\n",
       "      <th>Name</th>\n",
       "      <th>Gender</th>\n",
       "      <th>Email</th>\n",
       "    </tr>\n",
       "  </thead>\n",
       "  <tbody>\n",
       "    <tr>\n",
       "      <th>0</th>\n",
       "      <td>Patrick Garcia</td>\n",
       "      <td>male</td>\n",
       "      <td>patrick.garcia@example.com</td>\n",
       "    </tr>\n",
       "    <tr>\n",
       "      <th>1</th>\n",
       "      <td>Tarjei Hellem</td>\n",
       "      <td>male</td>\n",
       "      <td>tarjei.hellem@example.com</td>\n",
       "    </tr>\n",
       "    <tr>\n",
       "      <th>2</th>\n",
       "      <td>Mehmet Çetin</td>\n",
       "      <td>male</td>\n",
       "      <td>mehmet.cetin@example.com</td>\n",
       "    </tr>\n",
       "    <tr>\n",
       "      <th>3</th>\n",
       "      <td>Othmar Laurent</td>\n",
       "      <td>male</td>\n",
       "      <td>othmar.laurent@example.com</td>\n",
       "    </tr>\n",
       "    <tr>\n",
       "      <th>4</th>\n",
       "      <td>Roy Schaarschmidt</td>\n",
       "      <td>male</td>\n",
       "      <td>roy.schaarschmidt@example.com</td>\n",
       "    </tr>\n",
       "    <tr>\n",
       "      <th>5</th>\n",
       "      <td>Pauline Løvoll</td>\n",
       "      <td>female</td>\n",
       "      <td>pauline.lovoll@example.com</td>\n",
       "    </tr>\n",
       "    <tr>\n",
       "      <th>6</th>\n",
       "      <td>Davut Nebioğlu</td>\n",
       "      <td>male</td>\n",
       "      <td>davut.nebioglu@example.com</td>\n",
       "    </tr>\n",
       "    <tr>\n",
       "      <th>7</th>\n",
       "      <td>Jessica Jünger</td>\n",
       "      <td>female</td>\n",
       "      <td>jessica.junger@example.com</td>\n",
       "    </tr>\n",
       "    <tr>\n",
       "      <th>8</th>\n",
       "      <td>Timothy Elliott</td>\n",
       "      <td>male</td>\n",
       "      <td>timothy.elliott@example.com</td>\n",
       "    </tr>\n",
       "    <tr>\n",
       "      <th>9</th>\n",
       "      <td>Christina Fletcher</td>\n",
       "      <td>female</td>\n",
       "      <td>christina.fletcher@example.com</td>\n",
       "    </tr>\n",
       "  </tbody>\n",
       "</table>\n",
       "</div>"
      ],
      "text/plain": [
       "                 Name  Gender                           Email\n",
       "0      Patrick Garcia    male      patrick.garcia@example.com\n",
       "1       Tarjei Hellem    male       tarjei.hellem@example.com\n",
       "2        Mehmet Çetin    male        mehmet.cetin@example.com\n",
       "3      Othmar Laurent    male      othmar.laurent@example.com\n",
       "4   Roy Schaarschmidt    male   roy.schaarschmidt@example.com\n",
       "5      Pauline Løvoll  female      pauline.lovoll@example.com\n",
       "6      Davut Nebioğlu    male      davut.nebioglu@example.com\n",
       "7      Jessica Jünger  female      jessica.junger@example.com\n",
       "8     Timothy Elliott    male     timothy.elliott@example.com\n",
       "9  Christina Fletcher  female  christina.fletcher@example.com"
      ]
     },
     "execution_count": 22,
     "metadata": {},
     "output_type": "execute_result"
    }
   ],
   "source": [
    "df = pd.DataFrame(get_users())\n",
    "df"
   ]
  },
  {
   "attachments": {},
   "cell_type": "markdown",
   "metadata": {},
   "source": [
    "### Now Onto matters relating to FruitVice"
   ]
  },
  {
   "cell_type": "code",
   "execution_count": 12,
   "metadata": {},
   "outputs": [
    {
     "name": "stdout",
     "output_type": "stream",
     "text": [
      "200 \n",
      "Type : application/json\n"
     ]
    }
   ],
   "source": [
    "# Get data from its API using the get()\n",
    "url = 'https://fruityvice.com/api/fruit/all'\n",
    "get_response = requests.get(url)\n",
    "print(f\"{get_response.status_code} \\nType : {get_response.headers['Content-Type']}\")"
   ]
  },
  {
   "cell_type": "code",
   "execution_count": 15,
   "metadata": {},
   "outputs": [],
   "source": [
    "results = json.loads(get_response.text)"
   ]
  },
  {
   "cell_type": "code",
   "execution_count": 17,
   "metadata": {},
   "outputs": [],
   "source": [
    "fruity_df = pd.json_normalize(results)"
   ]
  },
  {
   "cell_type": "code",
   "execution_count": 26,
   "metadata": {},
   "outputs": [
    {
     "data": {
      "text/plain": [
       "96"
      ]
     },
     "execution_count": 26,
     "metadata": {},
     "output_type": "execute_result"
    }
   ],
   "source": [
    "# To find the calories in a banana\n",
    "banana = fruity_df.loc[fruity_df[\"name\"] == 'Banana']\n",
    "banana.iloc[0][\"nutritions.calories\"]"
   ]
  },
  {
   "cell_type": "code",
   "execution_count": null,
   "metadata": {},
   "outputs": [],
   "source": []
  }
 ],
 "metadata": {
  "kernelspec": {
   "display_name": "base",
   "language": "python",
   "name": "python3"
  },
  "language_info": {
   "codemirror_mode": {
    "name": "ipython",
    "version": 3
   },
   "file_extension": ".py",
   "mimetype": "text/x-python",
   "name": "python",
   "nbconvert_exporter": "python",
   "pygments_lexer": "ipython3",
   "version": "3.10.10"
  },
  "orig_nbformat": 4
 },
 "nbformat": 4,
 "nbformat_minor": 2
}

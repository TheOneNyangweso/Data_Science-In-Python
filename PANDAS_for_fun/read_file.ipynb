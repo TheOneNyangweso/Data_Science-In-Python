{
 "cells": [
  {
   "cell_type": "code",
   "execution_count": 1,
   "metadata": {},
   "outputs": [
    {
     "data": {
      "text/plain": [
       "('Example1.txt', <http.client.HTTPMessage at 0x7f07b3ccf610>)"
      ]
     },
     "execution_count": 1,
     "metadata": {},
     "output_type": "execute_result"
    }
   ],
   "source": [
    "# Download Example file\n",
    "# !wget -O /resources/data/Example1.txt https://cf-courses-data.s3.us.cloud-object-storage.appdomain.cloud/IBMDeveloperSkillsNetwork-PY0101EN-SkillsNetwork/labs/Module%204/data/example1.txt\n",
    "import urllib.request\n",
    "url = 'https://cf-courses-data.s3.us.cloud-object-storage.appdomain.cloud/IBMDeveloperSkillsNetwork-PY0101EN-SkillsNetwork/labs/Module%204/data/example1.txt'\n",
    "filename = 'Example1.txt'\n",
    "urllib.request.urlretrieve(url, filename)"
   ]
  },
  {
   "cell_type": "code",
   "execution_count": 13,
   "metadata": {},
   "outputs": [],
   "source": [
    "file_1 = open('Example1.txt', 'r')"
   ]
  },
  {
   "cell_type": "code",
   "execution_count": 4,
   "metadata": {},
   "outputs": [
    {
     "name": "stdout",
     "output_type": "stream",
     "text": [
      "File name >> Example1.txt\n",
      "File mode >> r\n"
     ]
    }
   ],
   "source": [
    "print(f'File name >> {file_1.name}\\nFile mode >> {file_1.mode}')"
   ]
  },
  {
   "cell_type": "code",
   "execution_count": 14,
   "metadata": {},
   "outputs": [
    {
     "name": "stdout",
     "output_type": "stream",
     "text": [
      "This is line 1 \n",
      "This is line 2\n",
      "This is line 3\n"
     ]
    }
   ],
   "source": [
    "print(file_1.read())"
   ]
  },
  {
   "cell_type": "code",
   "execution_count": 40,
   "metadata": {},
   "outputs": [
    {
     "name": "stdout",
     "output_type": "stream",
     "text": [
      "Initial Location : 46\n",
      "\n",
      "Read Nothing\n",
      "Current Location : 0\n",
      "This is line 1 \n",
      "This is line 2\n",
      "This is line 3\n",
      "\n",
      "Read Nothing\n",
      "Location after read : 46\n"
     ]
    }
   ],
   "source": [
    "with open('Example1.txt', 'a+') as f:\n",
    "    print(f'Initial Location : {f.tell()}')\n",
    "    a = print(f.read())\n",
    "    if (not a):\n",
    "        print('Read Nothing')\n",
    "    else:\n",
    "        print(f.read())\n",
    "    \n",
    "    f.seek(0,0)\n",
    "    print(f'Current Location : {f.tell()}')\n",
    "    a = print(f.read())\n",
    "    if (not a):\n",
    "        print('Read Nothing')\n",
    "    else:\n",
    "        print(f.read())\n",
    "        \n",
    "    print(f'Location after read : {f.tell()}')"
   ]
  },
  {
   "cell_type": "code",
   "execution_count": 41,
   "metadata": {},
   "outputs": [
    {
     "name": "stdout",
     "output_type": "stream",
     "text": [
      "Line 1\n",
      "Line 2\n",
      "Line 3\n",
      "finished\n",
      "\n"
     ]
    }
   ],
   "source": [
    "with open('Example1.txt', 'r+') as testwritefile:\n",
    "    data = testwritefile.readlines()\n",
    "    testwritefile.seek(0,0) #write at beginning of file\n",
    "   \n",
    "    testwritefile.write(\"Line 1\" + \"\\n\")\n",
    "    testwritefile.write(\"Line 2\" + \"\\n\")\n",
    "    testwritefile.write(\"Line 3\" + \"\\n\")\n",
    "    testwritefile.write(\"finished\\n\")\n",
    "    testwritefile.truncate()\n",
    "    testwritefile.seek(0,0)\n",
    "    print(testwritefile.read())"
   ]
  },
  {
   "cell_type": "code",
   "execution_count": null,
   "metadata": {},
   "outputs": [],
   "source": []
  }
 ],
 "metadata": {
  "kernelspec": {
   "display_name": "base",
   "language": "python",
   "name": "python3"
  },
  "language_info": {
   "codemirror_mode": {
    "name": "ipython",
    "version": 3
   },
   "file_extension": ".py",
   "mimetype": "text/x-python",
   "name": "python",
   "nbconvert_exporter": "python",
   "pygments_lexer": "ipython3",
   "version": "3.10.10"
  },
  "orig_nbformat": 4
 },
 "nbformat": 4,
 "nbformat_minor": 2
}

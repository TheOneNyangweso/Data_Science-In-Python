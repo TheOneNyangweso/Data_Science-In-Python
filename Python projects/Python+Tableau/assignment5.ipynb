{
 "cells": [
  {
   "cell_type": "code",
   "execution_count": null,
   "metadata": {},
   "outputs": [],
   "source": [
    "%matplotlib inline\n",
    "import pandas as pd\n",
    "import matplotlib.pyplot as plt\n",
    "import seaborn as sns; sns.set_theme()\n",
    "import numpy as np\n",
    "from scipy import stats\n",
    "import folium\n",
    "from mpl_toolkits.basemap import Basemap"
   ]
  },
  {
   "cell_type": "code",
   "execution_count": null,
   "metadata": {},
   "outputs": [],
   "source": [
    "path = '/home/nyangweso/Desktop/Ds_1/Data_Science-In-Python/Python projects/Python+Tableau/data/USA Flights data/US_Flights_2013.csv'"
   ]
  },
  {
   "cell_type": "code",
   "execution_count": null,
   "metadata": {},
   "outputs": [],
   "source": [
    "df = pd.read_csv(path)\n",
    "df.head(10)"
   ]
  },
  {
   "cell_type": "code",
   "execution_count": null,
   "metadata": {},
   "outputs": [],
   "source": [
    "df.columns"
   ]
  },
  {
   "cell_type": "markdown",
   "metadata": {},
   "source": [
    "It seems like you're asking for a comprehensive data analysis and visualization task using the `US_flights_2013` dataset. Here's a high-level plan:\n",
    "\n",
    "**Objectives:**\n",
    "\n",
    "1. Analyze the flight delay patterns across different airlines, origin and destination airports, and times (month, day of the month, day of the week).\n",
    "2. Investigate the relationship between departure delay and arrival delay.\n",
    "3. Understand the cancellation patterns across different airlines and airports.\n",
    "\n",
    "**Data Analysis & Visualization:**\n",
    "\n",
    "1. Descriptive statistics of the dataset.\n",
    "2. Histograms or bar charts for categorical variables like `Carrier`, `OriginCity`, `DestCity`, `Month`, `DayOfWeek`.\n",
    "3. Scatter plots to visualize the relationship between `DepDelay` and `ArrDelay`.\n",
    "4. Heatmaps to visualize the delay patterns across different times.\n",
    "5. Pie charts to visualize the proportion of delayed and cancelled flights.\n",
    "6. Box plots to visualize the distribution of delay times across different airlines or airports.\n",
    "7. Line charts to visualize the trend of delays over time.\n",
    "8. Geographic maps to visualize the delay patterns across different airports.\n",
    "\n",
    "**Application of Principles:**\n",
    "\n",
    "1. Use effective visuals: Choose the right type of chart for each visualization based on the nature of the data.\n",
    "2. Apply Gestalt principles and Preattentive attributes: Use color, size, and position effectively to highlight important information.\n",
    "3. Storytelling: Arrange the visualizations in a logical order to tell a coherent story about the flight delays and cancellations.\n",
    "\n",
    "**Explanation of Results:**\n",
    "\n",
    "1. Provide detailed comments explaining each visualization and the insights derived from it.\n",
    "\n",
    "**Conclusions:**\n",
    "\n",
    "1. Summarize the key findings from the analysis.\n",
    "2. Provide recommendations for airlines to improve their on-time performance based on the findings.\n",
    "\n",
    "**References:**\n",
    "\n",
    "1. Include all the references used in the analysis.\n",
    "\n",
    "Please note that this is a high-level plan. The actual analysis would involve writing code in Python and creating visualizations in Tableau, which I'm unable to do directly. However, I can guide you through the process and provide advice on how to perform each step. Let me know how you'd like to proceed! 😊\n"
   ]
  },
  {
   "cell_type": "markdown",
   "metadata": {},
   "source": [
    "#### Count based on airlines\n"
   ]
  },
  {
   "cell_type": "code",
   "execution_count": null,
   "metadata": {},
   "outputs": [],
   "source": [
    "flight_counts = df['Carrier'].value_counts()"
   ]
  },
  {
   "cell_type": "code",
   "execution_count": null,
   "metadata": {},
   "outputs": [],
   "source": [
    "plt.figure(figsize=(10, 6))\n",
    "plt.bar(flight_counts.index, flight_counts.values, color='b')\n",
    "plt.xlabel('Carrier')\n",
    "plt.ylabel('Number of Flights')\n",
    "plt.title('Number of Flights for Each Carrier')\n",
    "plt.show()"
   ]
  },
  {
   "cell_type": "markdown",
   "metadata": {},
   "source": [
    "#### Count based on airports\n"
   ]
  },
  {
   "cell_type": "code",
   "execution_count": null,
   "metadata": {},
   "outputs": [],
   "source": [
    "# For Origin Airport\n",
    "origin_airport_counts = df['OriginAirportName'].value_counts()\n",
    "\n",
    "# For Destination Airport\n",
    "dest_airport_counts = df['DestAirportName'].value_counts()\n",
    "\n",
    "# Get a list of unique airports\n",
    "airports = list(set(origin_airport_counts.index)\n",
    "                | set(dest_airport_counts.index))\n",
    "\n",
    "# Get counts for each airport as origin and destination\n",
    "origin_counts = [origin_airport_counts.get(airport, 0) for airport in airports]\n",
    "dest_counts = [dest_airport_counts.get(airport, 0) for airport in airports]\n",
    "\n",
    "# Create an array for the positions of the bars on the x-axis\n",
    "r = np.arange(len(airports))\n",
    "\n",
    "# Create the figure and a single subplot\n",
    "fig, ax = plt.subplots(figsize=(15, 10))\n",
    "\n",
    "# Width of a bar\n",
    "width = 0.4\n",
    "\n",
    "# Plotting\n",
    "plt.bar(r - width/2, origin_counts, color='b', width=width, label='origin')\n",
    "plt.bar(r + width/2, dest_counts, color='r', width=width, label='destination')\n",
    "\n",
    "# Adding labels and title\n",
    "plt.xlabel('Airport')\n",
    "plt.ylabel('Number of Flights')\n",
    "plt.title('Number of Flights for Each Airport as Origin and Destination')\n",
    "plt.xticks(r, airports, rotation=90)\n",
    "\n",
    "# Show the legend\n",
    "plt.legend()\n",
    "\n",
    "# Show the plot\n",
    "plt.show()"
   ]
  },
  {
   "cell_type": "markdown",
   "metadata": {},
   "source": [
    "Line Chart: Plot DepDelay and ArrDelay over Month. This can show if delays are more common in certain months.\n"
   ]
  },
  {
   "cell_type": "code",
   "execution_count": null,
   "metadata": {},
   "outputs": [],
   "source": [
    "# Group by Month and calculate average delays\n",
    "average_delays = df.groupby('Month')[['DepDelay', 'ArrDelay']].mean()\n",
    "\n",
    "plt.figure(figsize=(10, 6))\n",
    "plt.plot(average_delays.index,\n",
    "         average_delays['DepDelay'], marker='o', label='Departure Delays')\n",
    "plt.plot(average_delays.index,\n",
    "         average_delays['ArrDelay'], marker='o', label='Arrival Delays')\n",
    "plt.xlabel('Month')\n",
    "plt.ylabel('Average Delay (in minutes)')\n",
    "plt.title('Average Departure and Arrival Delays Over Months')\n",
    "plt.legend()\n",
    "plt.grid(True)\n",
    "plt.show()"
   ]
  },
  {
   "cell_type": "markdown",
   "metadata": {},
   "source": [
    "Heatmap: Show DayOfWeek vs Carrier with color indicating average DepDelay. This can reveal if certain carriers have more delays on specific days of the week.\n"
   ]
  },
  {
   "cell_type": "code",
   "execution_count": null,
   "metadata": {},
   "outputs": [],
   "source": [
    "# Group by DayOfWeek and Carrier, then calculate average departure delay\n",
    "average_dep_delay = df.groupby(['DayOfWeek', 'Carrier'])[\n",
    "    'DepDelay'].mean().unstack()\n",
    "\n",
    "plt.figure(figsize=(10, 6))\n",
    "sns.heatmap(average_dep_delay, cmap='coolwarm', annot=True, fmt=\".1f\")\n",
    "plt.title('Average Departure Delay for Each Carrier on Each Day of the Week')\n",
    "plt.show()"
   ]
  },
  {
   "cell_type": "markdown",
   "metadata": {},
   "source": [
    "Pie Chart: Show the proportion of flights that are Cancelled. This gives a quick view of how many flights are cancelled.\n"
   ]
  },
  {
   "cell_type": "code",
   "execution_count": null,
   "metadata": {},
   "outputs": [],
   "source": [
    "cancelled_flights = df['Cancelled'].value_counts()\n",
    "\n",
    "plt.figure(figsize=(6, 6))\n",
    "plt.pie(cancelled_flights, labels=[\n",
    "        'Not Cancelled', 'Cancelled'], autopct='%1.1f%%')\n",
    "plt.title('Proportion of Flights Cancelled')\n",
    "plt.show()"
   ]
  },
  {
   "cell_type": "markdown",
   "metadata": {},
   "source": [
    "#### Cancellation %\n"
   ]
  },
  {
   "cell_type": "code",
   "execution_count": null,
   "metadata": {},
   "outputs": [],
   "source": [
    "grouped = df.groupby('Carrier')\n",
    "\n",
    "# Cancellation %\n",
    "cancel_percent = grouped['Cancelled'].mean() * 100\n",
    "\n",
    "# Average Departure Delay\n",
    "avg_dep_delay = grouped['DepDelay'].mean()\n",
    "\n",
    "# Average Arrival Delay\n",
    "avg_arr_delay = grouped['ArrDelay'].mean()"
   ]
  },
  {
   "cell_type": "code",
   "execution_count": null,
   "metadata": {},
   "outputs": [],
   "source": [
    "result = pd.DataFrame({\n",
    "    'Cancellation %': cancel_percent,\n",
    "    'Average Departure Delay': avg_dep_delay,\n",
    "    'Average Arrival Delay': avg_arr_delay\n",
    "})\n",
    "result"
   ]
  },
  {
   "cell_type": "markdown",
   "metadata": {},
   "source": [
    "Scatter Plot: Plot DepDelay vs ArrDelay to see if there is a correlation between departure delay and arrival delay.\n"
   ]
  },
  {
   "cell_type": "code",
   "execution_count": null,
   "metadata": {},
   "outputs": [],
   "source": [
    "# Calculate the line of best fit\n",
    "slope, intercept, r_value, p_value, std_err = stats.linregress(\n",
    "    df['DepDelay'], df['ArrDelay'])\n",
    "\n",
    "# Create a new column for the color gradient based on the difference between departure and arrival delay\n",
    "df['DelayDifference'] = abs(df['DepDelay'] - df['ArrDelay'])\n",
    "\n",
    "plt.figure(figsize=(10, 6))\n",
    "scatter = plt.scatter(df['DepDelay'], df['ArrDelay'],\n",
    "                      c=df['DelayDifference'], cmap='RdYlGn_r')\n",
    "plt.plot(df['DepDelay'], intercept + slope *\n",
    "         df['DepDelay'], 'r', label='fitted line')\n",
    "plt.colorbar(scatter)\n",
    "plt.xlabel('Departure Delay')\n",
    "plt.ylabel('Arrival Delay')\n",
    "plt.title('Departure Delay vs Arrival Delay')\n",
    "plt.show()"
   ]
  },
  {
   "cell_type": "markdown",
   "metadata": {},
   "source": [
    "Histogram: Show the distribution of ArrDelay. This can give an idea of the common delay times.\n"
   ]
  },
  {
   "cell_type": "code",
   "execution_count": null,
   "metadata": {},
   "outputs": [],
   "source": [
    "plt.figure(figsize=(10, 6))\n",
    "plt.hist(df['ArrDelay'], bins=30, edgecolor='black')\n",
    "plt.xlabel('Arrival Delay')\n",
    "plt.ylabel('Frequency')\n",
    "plt.title('Distribution of Arrival Delays')\n",
    "plt.show()"
   ]
  },
  {
   "cell_type": "markdown",
   "metadata": {},
   "source": [
    "Box Plot: Show the distribution of DepDelay for each Carrier. This can reveal which carriers have the most variation in departure delays.\n"
   ]
  },
  {
   "cell_type": "code",
   "execution_count": null,
   "metadata": {},
   "outputs": [],
   "source": [
    "plt.figure(figsize=(10, 6))\n",
    "sns.boxplot(x='Carrier', y='DepDelay', data=df)\n",
    "plt.xlabel('Carrier')\n",
    "plt.ylabel('Departure Delay')\n",
    "plt.title('Distribution of Departure Delays for Each Carrier')\n",
    "plt.show()"
   ]
  }
 ],
 "metadata": {
  "kernelspec": {
   "display_name": "Python 3",
   "language": "python",
   "name": "python3"
  },
  "language_info": {
   "codemirror_mode": {
    "name": "ipython",
    "version": 3
   },
   "file_extension": ".py",
   "mimetype": "text/x-python",
   "name": "python",
   "nbconvert_exporter": "python",
   "pygments_lexer": "ipython3",
   "version": "3.11.4"
  }
 },
 "nbformat": 4,
 "nbformat_minor": 2
}

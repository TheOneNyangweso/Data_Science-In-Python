{
 "cells": [
  {
   "cell_type": "markdown",
   "metadata": {},
   "source": [
    "### **USA FLIGHT DELAYS INSIGHTS**\n"
   ]
  },
  {
   "cell_type": "markdown",
   "metadata": {},
   "source": [
    "### Data Source : https://www.kaggle.com/datasets/aksathomas/2013-us-flight-data?select=US_Flights_2013.csv\n",
    "\n",
    "**Objectives:**\n",
    "\n",
    "1. Analyze the flight delay patterns across different airlines, origin and destination airports, and times (month, day of the month, day of the week).\n",
    "2. Investigate the relationship between departure delay and arrival delay.\n",
    "3. Understand the cancellation patterns across different airlines and airports.\n",
    "\n",
    "standard imports\n"
   ]
  },
  {
   "cell_type": "code",
   "execution_count": null,
   "metadata": {},
   "outputs": [],
   "source": [
    "%matplotlib inline\n",
    "import pandas as pd\n",
    "import matplotlib.pyplot as plt\n",
    "import seaborn as sns; sns.set_theme()\n",
    "import numpy as np\n",
    "from scipy import stats"
   ]
  },
  {
   "cell_type": "code",
   "execution_count": null,
   "metadata": {},
   "outputs": [],
   "source": [
    "# Path to file\n",
    "path = '/home/nyangweso/Desktop/Ds_1/Data_Science-In-Python/Python projects/Python+Tableau/data/USA Flights data/US_Flights_2013.csv'"
   ]
  },
  {
   "cell_type": "code",
   "execution_count": null,
   "metadata": {},
   "outputs": [],
   "source": [
    "df = pd.read_csv(path)\n",
    "df.head(10)\n",
    "# CSV file is read and first 10 columns displayed"
   ]
  },
  {
   "cell_type": "code",
   "execution_count": null,
   "metadata": {},
   "outputs": [],
   "source": [
    "df.columns\n",
    "# The column present in the dataframe are displayed"
   ]
  },
  {
   "cell_type": "markdown",
   "metadata": {},
   "source": [
    "#### Count based on airlines\n"
   ]
  },
  {
   "cell_type": "code",
   "execution_count": null,
   "metadata": {},
   "outputs": [],
   "source": [
    "flight_counts = df['Carrier'].value_counts()"
   ]
  },
  {
   "cell_type": "code",
   "execution_count": null,
   "metadata": {},
   "outputs": [],
   "source": [
    "plt.figure(figsize=(10, 6))\n",
    "plt.bar(flight_counts.index, flight_counts.values, color='b')\n",
    "plt.xlabel('Carrier')\n",
    "plt.ylabel('Number of Flights')\n",
    "plt.title('Number of Flights for Each Carrier')\n",
    "plt.show()\n",
    "\n",
    "# Results:\n",
    "# The top 4 airlines with the most flights  according to the dataset are:\n",
    "# 1. SouthWest Airlines (WN)\n",
    "# 2. Delta Airlines (DL)\n",
    "# 3. American Airlines (AA)\n",
    "# 4. United Airlines (UA)\n",
    "# Hawaiian Airlines (HA) was recorded with the lowest tally of flight count"
   ]
  },
  {
   "cell_type": "markdown",
   "metadata": {},
   "source": [
    "#### Count based on airports\n"
   ]
  },
  {
   "cell_type": "code",
   "execution_count": null,
   "metadata": {},
   "outputs": [],
   "source": [
    "# For Origin Airport\n",
    "origin_airport_counts = df['OriginAirportName'].value_counts()\n",
    "\n",
    "\n",
    "# Get a list of unique airports\n",
    "airports = list(set(origin_airport_counts.index))\n",
    "\n",
    "# Get counts for each airport as origin and destination\n",
    "origin_counts = [origin_airport_counts.get(airport, 0) for airport in airports]\n",
    "\n",
    "\n",
    "# Create an array for the positions of the bars on the x-axis\n",
    "r = np.arange(len(airports))\n",
    "\n",
    "# Create the figure and a single subplot\n",
    "fig, ax = plt.subplots(figsize=(15, 10))\n",
    "\n",
    "# Width of a bar\n",
    "width = 0.4\n",
    "\n",
    "# Plotting\n",
    "plt.bar(r - width/2, origin_counts, color='b', width=width, label='origin')\n",
    "\n",
    "# Adding labels and title\n",
    "plt.xlabel('Airport')\n",
    "plt.ylabel('Number of Flights')\n",
    "plt.title('Number of Flights for Each Airport as Origin')\n",
    "plt.xticks(r, airports, rotation=90)\n",
    "\n",
    "# Show the legend\n",
    "plt.legend()\n",
    "\n",
    "# Show the plot\n",
    "plt.show()\n",
    "\n",
    "# Results:\n",
    "# The count of departing flights is high in the following states:\n",
    "# 1. Atlanta\n",
    "# 2. Chicago\n",
    "# 3. Los Angeles\n",
    "# 4. Dallas\n",
    "# 5. Denver"
   ]
  },
  {
   "cell_type": "code",
   "execution_count": null,
   "metadata": {},
   "outputs": [],
   "source": [
    "# For Destination Airport\n",
    "dest_airport_counts = df['DestAirportName'].value_counts()\n",
    "\n",
    "airports = list(set(dest_airport_counts.index))\n",
    "\n",
    "dest_counts = [dest_airport_counts.get(airport, 0) for airport in airports]\n",
    "\n",
    "# Create an array for the positions of the bars on the x-axis\n",
    "r = np.arange(len(airports))\n",
    "\n",
    "# Create the figure and a single subplot\n",
    "fig, ax = plt.subplots(figsize=(15, 10))\n",
    "\n",
    "# Width of a bar\n",
    "width = 0.4\n",
    "\n",
    "plt.bar(r + width/2, dest_counts, color='r', width=width, label='destination')\n",
    "\n",
    "# Adding labels and title\n",
    "plt.xlabel('Airport')\n",
    "plt.ylabel('Number of Flights')\n",
    "plt.title('Number of Flights for Each Airport as Destination')\n",
    "plt.xticks(r, airports, rotation=90)\n",
    "\n",
    "# Show the legend\n",
    "plt.legend()\n",
    "\n",
    "# Show the plot\n",
    "plt.show()\n",
    "\n",
    "# Results:\n",
    "# The count of arriving flights is high in the following states:\n",
    "# 1. Atlanta\n",
    "# 2. Chicago\n",
    "# 3. Los Angeles\n",
    "# 4. Dallas\n",
    "# 5. Denver"
   ]
  },
  {
   "cell_type": "markdown",
   "metadata": {},
   "source": [
    "Line Chart: Plot DepDelay and ArrDelay over Month. This can show if delays are more common in certain months.\n"
   ]
  },
  {
   "cell_type": "code",
   "execution_count": null,
   "metadata": {},
   "outputs": [],
   "source": [
    "# Group by Month and calculate average delays\n",
    "average_delays = df.groupby('Month')[['DepDelay', 'ArrDelay']].mean()\n",
    "\n",
    "plt.figure(figsize=(10, 6))\n",
    "plt.plot(average_delays.index,\n",
    "         average_delays['DepDelay'], marker='o', label='Departure Delays')\n",
    "plt.plot(average_delays.index,\n",
    "         average_delays['ArrDelay'], marker='o', label='Arrival Delays')\n",
    "plt.xlabel('Month')\n",
    "plt.ylabel('Average Delay (in minutes)')\n",
    "plt.title('Average Departure and Arrival Delays Over Months')\n",
    "plt.legend()\n",
    "plt.grid(True)\n",
    "plt.show()\n",
    "\n",
    "# Results:\n",
    "# 1. June had the highest average departure delay.\n",
    "# 2. The average arrival and departure delay was highest in June and July.\n",
    "# 3. The delays are suggesting that delays can have a knock-on effect, with one late aircraft causing subsequent flights to be delayed."
   ]
  },
  {
   "cell_type": "markdown",
   "metadata": {},
   "source": [
    "Pie Chart: This Show the proportion of flights that are Cancelled. This gives a quick view of how many flights are cancelled.\n"
   ]
  },
  {
   "cell_type": "code",
   "execution_count": null,
   "metadata": {},
   "outputs": [],
   "source": [
    "cancelled_flights = df['Cancelled'].value_counts()\n",
    "\n",
    "plt.figure(figsize=(6, 6))\n",
    "plt.pie(cancelled_flights, labels=[\n",
    "        'Not Cancelled', 'Cancelled'], autopct='%1.1f%%')\n",
    "plt.title('Proportion of Flights Cancelled')\n",
    "plt.show()\n",
    "\n",
    "# Results:\n",
    "# There is a very small number in flight cancellations. This indicates that there aren't issues that cause cancellations."
   ]
  },
  {
   "cell_type": "markdown",
   "metadata": {},
   "source": [
    "Scatter Plot: This involves plotting DepDelay vs ArrDelay to see if there is a correlation between departure delay and arrival delay.\n"
   ]
  },
  {
   "cell_type": "code",
   "execution_count": null,
   "metadata": {},
   "outputs": [],
   "source": [
    "# Calculate the line of best fit\n",
    "slope, intercept, r_value, p_value, std_err = stats.linregress(\n",
    "    df['DepDelay'], df['ArrDelay'])\n",
    "\n",
    "# Create a new column for the color gradient based on the difference between departure and arrival delay\n",
    "df['DelayDifference'] = abs(df['DepDelay'] - df['ArrDelay'])\n",
    "\n",
    "plt.figure(figsize=(10, 6))\n",
    "scatter = plt.scatter(df['DepDelay'], df['ArrDelay'],\n",
    "                      c=df['DelayDifference'], cmap='RdYlGn_r')\n",
    "plt.plot(df['DepDelay'], intercept + slope *\n",
    "         df['DepDelay'], 'r', label='fitted line')\n",
    "plt.colorbar(scatter)\n",
    "plt.xlabel('Departure Delay')\n",
    "plt.ylabel('Arrival Delay')\n",
    "plt.title('Departure Delay vs Arrival Delay')\n",
    "plt.show()\n",
    "\n",
    "# Results:\n",
    "# There is  a strong positive correlation between the departure and arrival delays\n",
    "# This could possibly mean that the airports with a greater number of departure delays are more likely to have more arrival delays.\n",
    "# However, correlation does not necessarily imply causation, and other factors could also be influencing these delays."
   ]
  },
  {
   "cell_type": "markdown",
   "metadata": {},
   "source": [
    "Box Plot: This is suitable so as to reveal which carriers have the most variation in departure delays.\n"
   ]
  },
  {
   "cell_type": "code",
   "execution_count": null,
   "metadata": {},
   "outputs": [],
   "source": [
    "plt.figure(figsize=(10, 6))\n",
    "sns.boxplot(x='Carrier', y='DepDelay', data=df)\n",
    "plt.xlabel('Carrier')\n",
    "plt.ylabel('Departure Delay')\n",
    "plt.title('Distribution of Departure Delays for Each Carrier')\n",
    "plt.show()\n",
    "\n",
    "# Results:\n",
    "# AA, MQ and HA have a high number of delays\n",
    "# On the other hand, the distribution of delays for the other carriers is almost similar."
   ]
  },
  {
   "cell_type": "markdown",
   "metadata": {},
   "source": [
    "**Conclusions:**\n",
    "\n",
    "1. Although there are flight delays,overally they aren't that frequent\n",
    "2. Some airlines though are more prone to delays such as American Airline\n",
    "3. There is  a strong positive correlation between the departure and arrival delays. This could possibly mean that the airports with a greater number of departure delays are more likely to have more arrival delays.\n",
    "4. There's only a small fraction of flights that are cancelled. This shows that factors causing flight cancellations such as weather and security have been looked into\n"
   ]
  },
  {
   "cell_type": "markdown",
   "metadata": {},
   "source": [
    "\n",
    "**References:**\n",
    "1. https://www.datacamp.com/tutorial/visualizing-data-with-python-and-tableau-tutorial\n",
    "2. https://www.transportation.gov/policy/aviation-policy/us-international-air-passenger-and-freight-statistics-report\n",
    "3. https://community.tableau.com/s/news/a0A4T000002NznhUAC/tableau-integration-with-python-step-by-step\n",
    "4. https://www.kaggle.com"
   ]
  }
 ],
 "metadata": {
  "kernelspec": {
   "display_name": "Python 3",
   "language": "python",
   "name": "python3"
  },
  "language_info": {
   "codemirror_mode": {
    "name": "ipython",
    "version": 3
   },
   "file_extension": ".py",
   "mimetype": "text/x-python",
   "name": "python",
   "nbconvert_exporter": "python",
   "pygments_lexer": "ipython3",
   "version": "3.11.4"
  }
 },
 "nbformat": 4,
 "nbformat_minor": 2
}

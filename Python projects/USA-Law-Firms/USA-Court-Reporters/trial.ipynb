{
 "cells": [
  {
   "cell_type": "code",
   "execution_count": null,
   "metadata": {},
   "outputs": [],
   "source": [
    "from playwright.sync_api import sync_playwright\n",
    "from parsel import Selector\n",
    "import pandas as pd\n",
    "import csv\n",
    "import time"
   ]
  },
  {
   "cell_type": "code",
   "execution_count": null,
   "metadata": {},
   "outputs": [],
   "source": [
    "states = [\n",
    "    'Alabama', 'Alaska', 'Arizona', 'Arkansas', 'California', 'Colorado', 'Connecticut',\n",
    "    'Delaware', 'Florida', 'Georgia', 'Hawaii', 'Idaho', 'Illinois', 'Indiana', 'Iowa',\n",
    "    'Kansas', 'Kentucky', 'Louisiana', 'Maine', 'Maryland', 'Massachusetts', 'Michigan',\n",
    "    'Minnesota', 'Mississippi', 'Missouri', 'Montana', 'Nebraska', 'Nevada', 'New Hampshire',\n",
    "    'New Jersey', 'New Mexico', 'New York', 'North Carolina', 'North Dakota', 'Ohio',\n",
    "    'Oklahoma', 'Oregon', 'Pennsylvania', 'Rhode Island', 'South Carolina', 'South Dakota',\n",
    "    'Tennessee', 'Texas', 'Utah', 'Vermont', 'Virginia', 'Washington', 'West Virginia',\n",
    "    'Wisconsin', 'Wyoming', 'Washington, D.C.'\n",
    "]"
   ]
  },
  {
   "cell_type": "code",
   "execution_count": null,
   "metadata": {},
   "outputs": [],
   "source": [
    "for i, j in enumerate(states):\n",
    "    print(i, j)"
   ]
  },
  {
   "cell_type": "code",
   "execution_count": null,
   "metadata": {},
   "outputs": [],
   "source": [
    "states[28]"
   ]
  },
  {
   "cell_type": "code",
   "execution_count": null,
   "metadata": {},
   "outputs": [],
   "source": [
    "def get_data():\n",
    "    with sync_playwright() as pw:\n",
    "        # Creating an empty DataFrame with the desired column names\n",
    "        # columns = ['Name', 'Address', 'Location',\n",
    "        #            'No_of_Partners', 'Phone', 'Website_URL']\n",
    "        # data = pd.DataFrame(columns=columns)\n",
    "\n",
    "        count = 655\n",
    "        URLs = get_URLs()\n",
    "        while count < 6786:\n",
    "            try:\n",
    "                print(f\"starting iteration {count + 1}...\")\n",
    "\n",
    "                # Open a new browser for every 50 URLs\n",
    "                if count % 50 == 0:\n",
    "                    browser = pw.firefox.launch(headless=False)\n",
    "                    page = browser.new_page()\n",
    "\n",
    "                page.goto(URLs[count], timeout=120000,\n",
    "                          wait_until='domcontentloaded')\n",
    "\n",
    "                time.sleep(5)\n",
    "                # get html\n",
    "                html = page.content()\n",
    "                # parse the HTML using parsel\n",
    "                selector = Selector(text=html)\n",
    "\n",
    "                name_of_law_firm = selector.xpath(\n",
    "                    '/html/body/main/div[3]/div[3]/div[1]/div[1]/div[2]/div/h1/text()').get()\n",
    "                address = selector.xpath(\n",
    "                    '/html/body/main/div[3]/div[3]/div[1]/div[1]/div[2]/div/div[1]/div/p[1]/text()').get()\n",
    "                location = selector.xpath(\n",
    "                    '/html/body/main/div[3]/div[3]/div[1]/div[1]/div[2]/div/div[1]/div/p[2]/text()').get()\n",
    "                no_of_partners = selector.xpath(\n",
    "                    '/html/body/main/div[3]/div[3]/div[1]/div[1]/div[2]/div/div[2]/div[2]/p/text()').get()\n",
    "                phone = selector.xpath(\n",
    "                    '/html/body/main/div[3]/div[3]/div[1]/div[1]/div[2]/div/div[3]/a/text()').get()\n",
    "                website_url = selector.xpath(\n",
    "                    '/html/body/main/div[3]/div[3]/div[1]/div[1]/div[3]/div/a/@href').get()\n",
    "\n",
    "                row = [name_of_law_firm, address, location,\n",
    "                       no_of_partners, phone, website_url]\n",
    "\n",
    "                # Write directly to the CSV file\n",
    "                with open('law_firm_data.csv', 'a', newline='') as f:\n",
    "                    writer = csv.writer(f)\n",
    "                    writer.writerow(row)\n",
    "\n",
    "                count += 1\n",
    "                # Close the browser and sleep for a minute after every 50 URLs\n",
    "                if count % 50 == 0:\n",
    "                    browser.close()\n",
    "                    print(\"Sleeping for half a minute...\")\n",
    "                    time.sleep(30)\n",
    "\n",
    "            except:\n",
    "                with open(\"error_log.txt\", 'a') as f:\n",
    "                    f.write(str(f'iteration {count} failed\\n'))\n",
    "                count += 1\n",
    "                continue\n",
    "\n",
    "        # close the browser\n",
    "        browser.close()\n",
    "        pw.stop()\n",
    "        return f\"Scraped {count+1} pages.\""
   ]
  },
  {
   "cell_type": "markdown",
   "metadata": {},
   "source": [
    "name"
   ]
  },
  {
   "cell_type": "code",
   "execution_count": null,
   "metadata": {},
   "outputs": [],
   "source": [
    "## name for those with both\n",
    "/html/body/div[4]/div/div[9]/div[1]/div/div[2]/div[2]/div/div/div/div/div/div/div/div/div[1]/div[3]/div[2]/div[2]/div/div/a/div/div/div[1]/span\n",
    "/html/body/div[4]/div/div[9]/div[1]/div/div[2]/div[2]/div/div/div/div/div/div/div/div/div[1]/div[3]/div[8]/div[2]/div/div/a/div/div/div[1]/span\n",
    "/html/body/div[4]/div/div[9]/div[1]/div/div[2]/div[2]/div/div/div/div/div/div/div/div/div[1]/div[4]/div[10]/div[2]/div/div/a/div/div/div[1]/span\n",
    "/html/body/div[4]/div/div[9]/div[1]/div/div[2]/div[2]/div/div/div/div/div/div/div/div/div[1]/div[3]/div[40]/div[2]/div/div/a/div/div/div[1]/span\n",
    "# in page 2 onwards...\n",
    "/html/body/div[4]/div/div[9]/div[1]/div/div[2]/div[2]/div/div/div/div/div/div/div/div/div/div[1]/div[3]/div[16]/div[2]/div/div/a/div/div/div[1]/span\n",
    "/html/body/div[4]/div/div[9]/div[1]/div/div[2]/div[2]/div/div/div/div/div/div/div/div/div/div[1]/div[4]/div[14]/div[2]/div/div/a/div/div/div[1]/span\n",
    "/html/body/div[4]/div/div[9]/div[1]/div/div[2]/div[2]/div/div/div/div/div/div/div/div/div/div[1]/div[3]/div[16]/div[2]/div/div/a/div/div/div[1]/span\n",
    "## name for those with no direction\n",
    "/html/body/div[4]/div/div[9]/div[1]/div/div[2]/div[2]/div/div/div/div/div/div/div/div/div[1]/div[3]/div[2]/div/div/div/a/div/div/div[1]/span\n",
    "/html/body/div[4]/div/div[9]/div[1]/div/div[2]/div[2]/div/div/div/div/div/div/div/div/div[1]/div[3]/div[22]/div/div/div/a/div/div/div[1]/span\n",
    "/html/body/div[4]/div/div[9]/div[1]/div/div[2]/div[2]/div/div/div/div/div/div/div/div/div[1]/div[3]/div[36]/div/div/div/a/div/div/div[1]/span\n",
    "/html/body/div[4]/div/div[9]/div[1]/div/div[2]/div[2]/div/div/div/div/div/div/div/div/div[1]/div[3]/div[26]/div/div/div/a/div/div/div[1]/span\n",
    "# in page 2 onwards...\n",
    "/html/body/div[4]/div/div[9]/div[1]/div/div[2]/div[2]/div/div/div/div/div/div/div/div/div/div[1]/div[4]/div[14]/div/div/div/a/div/div/div[1]/span\n",
    "/html/body/div[4]/div/div[9]/div[1]/div/div[2]/div[2]/div/div/div/div/div/div/div/div/div/div[1]/div[4]/div[12]/div/div/div/a/div/div/div[1]/span"
   ]
  },
  {
   "cell_type": "markdown",
   "metadata": {},
   "source": [
    "number"
   ]
  },
  {
   "cell_type": "code",
   "execution_count": null,
   "metadata": {},
   "outputs": [],
   "source": [
    "/html/body/div[4]/div/div[9]/div[1]/div/div[2]/div[2]/div/div/div/div/div/div/div/div/div[1]/div[3]/div[1]/div[2]/div/div/a/div/div/div[1]/span # name xpath\n",
    "/html/body/div[4]/div/div[9]/div[1]/div/div[2]/div[2]/div/div/div/div/div/div/div/div/div[1]/div[3]/div[2]/div[2]/div/div/a/div/div/div[3]\n",
    "/html/body/div[4]/div/div[9]/div[1]/div/div[2]/div[2]/div/div/div/div/div/div/div/div/div[1]/div[3]/div[8]/div[2]/div/div/a/div/div/div[3]\n",
    "## number for those with no direction\n",
    "/html/body/div[4]/div/div[9]/div[1]/div/div[2]/div[2]/div/div/div/div/div/div/div/div/div[1]/div[3]/div[2]/div/div/div/a/div/div/div[3]\n",
    "/html/body/div[4]/div/div[9]/div[1]/div/div[2]/div[2]/div/div/div/div/div/div/div/div/div[1]/div[3]/div[22]/div/div/div/a/div/div/div[3]\n",
    "# page 2 onwards...\n",
    "/html/body/div[4]/div/div[9]/div[1]/div/div[2]/div[2]/div/div/div/div/div/div/div/div/div/div[1]/div[3]/div[4]/div[2]/div/div/a/div/div/div[3]\n",
    "/html/body/div[4]/div/div[9]/div[1]/div/div[2]/div[2]/div/div/div/div/div/div/div/div/div/div[1]/div[4]/div[6]/div[2]/div/div/a/div/div/div[3]\n",
    "/html/body/div[4]/div/div[9]/div[1]/div/div[2]/div[2]/div/div/div/div/div/div/div/div/div/div[1]/div[4]/div[4]/div[2]/div/div/a/div/div/div[3]\n"
   ]
  },
  {
   "cell_type": "markdown",
   "metadata": {},
   "source": [
    "website"
   ]
  },
  {
   "cell_type": "code",
   "execution_count": null,
   "metadata": {},
   "outputs": [],
   "source": [
    "/html/body/div[4]/div/div[9]/div[1]/div/div[2]/div[2]/div/div/div/div/div/div/div/div/div[1]/div[3]/div[1]/div[2]/div/div/a/div/div/div[1]/span #name xpath\n",
    "/html/body/div[4]/div/div[9]/div[1]/div/div[2]/div[2]/div/div/div/div/div/div/div/div/div[1]/div[3]/div[2]/div[2]/div/a[1]\n",
    "/html/body/div[4]/div/div[9]/div[1]/div/div[2]/div[2]/div/div/div/div/div/div/div/div/div[1]/div[3]/div[8]/div[2]/div/a[1]\n",
    "## website for those with no direction\n",
    "/html/body/div[4]/div/div[9]/div[1]/div/div[2]/div[2]/div/div/div/div/div/div/div/div/div[1]/div[3]/div[2]/div/div/a\n",
    "/html/body/div[4]/div/div[9]/div[1]/div/div[2]/div[2]/div/div/div/div/div/div/div/div/div[1]/div[3]/div[22]/div/div/a\n"
   ]
  },
  {
   "cell_type": "code",
   "execution_count": null,
   "metadata": {},
   "outputs": [],
   "source": [
    "cols = ['name', 'number', 'state', 'website']"
   ]
  },
  {
   "cell_type": "code",
   "execution_count": null,
   "metadata": {},
   "outputs": [],
   "source": [
    "filepath = '/home/nyangweso/Desktop/Ds_1/Data_Science-In-Python/Python projects/USA-Law-Firms/court_reporters.csv'"
   ]
  },
  {
   "cell_type": "code",
   "execution_count": null,
   "metadata": {},
   "outputs": [],
   "source": [
    "df = pd.read_csv(filepath_or_buffer=filepath, sep='|', names=cols)\n",
    "df.head(10)"
   ]
  },
  {
   "cell_type": "markdown",
   "metadata": {},
   "source": []
  }
 ],
 "metadata": {
  "kernelspec": {
   "display_name": "base",
   "language": "python",
   "name": "python3"
  },
  "language_info": {
   "codemirror_mode": {
    "name": "ipython",
    "version": 3
   },
   "file_extension": ".py",
   "mimetype": "text/x-python",
   "name": "python",
   "nbconvert_exporter": "python",
   "pygments_lexer": "ipython3",
   "version": "3.11.4"
  }
 },
 "nbformat": 4,
 "nbformat_minor": 2
}

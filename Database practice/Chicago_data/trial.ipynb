{
 "cells": [
  {
   "cell_type": "code",
   "execution_count": null,
   "metadata": {},
   "outputs": [],
   "source": [
    "import csv\n",
    "import sqlite3\n",
    "import glob\n",
    "import os\n",
    "\n",
    "def do_directory(dirname, db):\n",
    "    for filename in glob.glob(os.path.join(dirname, '*.csv')):\n",
    "        do_file(filename, db)\n",
    "\n",
    "def do_file(filename, db):\n",
    "        with open(filename) as f:\n",
    "            with db:\n",
    "                data = csv.DictReader(f)\n",
    "                cols = data.fieldnames\n",
    "                table=os.path.splitext(os.path.basename(filename))[0]\n",
    "\n",
    "                sql = 'drop table if exists \"{}\"'.format(table)\n",
    "                db.execute(sql)\n",
    "\n",
    "                sql = 'create table \"{table}\" ( {cols} )'.format(\n",
    "                    table=table,\n",
    "                    cols=','.join('\"{}\"'.format(col) for col in cols))\n",
    "                db.execute(sql)\n",
    "\n",
    "                sql = 'insert into \"{table}\" values ( {vals} )'.format(\n",
    "                    table=table,\n",
    "                    vals=','.join('?' for col in cols))\n",
    "                db.executemany(sql, (list(map(row.get, cols)) for row in data))\n",
    "\n",
    "if __name__ == '__main__':\n",
    "    conn = sqlite3.connect('Chicago.db')\n",
    "    do_directory('/home/nyangweso/Desktop/Ds_1/Data_Structures/Database practice/Chicago_data/ChicagoPublicSchools.csv', conn)"
   ]
  },
  {
   "cell_type": "code",
   "execution_count": null,
   "metadata": {},
   "outputs": [],
   "source": []
  }
 ],
 "metadata": {
  "kernelspec": {
   "display_name": "base",
   "language": "python",
   "name": "python3"
  },
  "language_info": {
   "codemirror_mode": {
    "name": "ipython",
    "version": 3
   },
   "file_extension": ".py",
   "mimetype": "text/x-python",
   "name": "python",
   "nbconvert_exporter": "python",
   "pygments_lexer": "ipython3",
   "version": "3.10.10"
  }
 },
 "nbformat": 4,
 "nbformat_minor": 2
}

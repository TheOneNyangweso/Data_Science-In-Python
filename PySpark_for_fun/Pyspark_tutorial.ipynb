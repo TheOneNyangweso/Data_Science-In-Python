{
 "cells": [
  {
   "cell_type": "code",
   "execution_count": 7,
   "metadata": {},
   "outputs": [
    {
     "name": "stdout",
     "output_type": "stream",
     "text": [
      "10 s.a.m\n",
      "11 s.a.m\n",
      "12 s.a.m\n",
      "13 s.a.m\n",
      "14 s.a.m\n",
      "15 s.a.m\n",
      "16 s.a.m\n",
      "17 s.a.m\n",
      "18 s.a.m\n",
      "19 s.a.m\n"
     ]
    }
   ],
   "source": [
    "for a in range(10):\n",
    "    print(a + 10,'.'.join(\"sam\"))"
   ]
  },
  {
   "cell_type": "code",
   "execution_count": null,
   "metadata": {},
   "outputs": [],
   "source": []
  }
 ],
 "metadata": {
  "kernelspec": {
   "display_name": "base",
   "language": "python",
   "name": "python3"
  },
  "language_info": {
   "codemirror_mode": {
    "name": "ipython",
    "version": 3
   },
   "file_extension": ".py",
   "mimetype": "text/x-python",
   "name": "python",
   "nbconvert_exporter": "python",
   "pygments_lexer": "ipython3",
   "version": "3.10.10"
  },
  "orig_nbformat": 4
 },
 "nbformat": 4,
 "nbformat_minor": 2
}

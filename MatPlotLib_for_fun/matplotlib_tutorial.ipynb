{
 "cells": [
  {
   "cell_type": "code",
   "execution_count": null,
   "metadata": {},
   "outputs": [],
   "source": [
    "import matplotlib.pyplot as plt\n",
    "import numpy as np\n",
    "import pandas as pd"
   ]
  },
  {
   "cell_type": "code",
   "execution_count": null,
   "metadata": {},
   "outputs": [],
   "source": [
    "x = [x for x in range(6)]\n",
    "y = [x for x in range(6)]\n",
    "x2 = np.arange(0,4.5,0.5)\n",
    "# Shorthand notation, check official doc\n",
    "# convention : [color][marker][line]\n",
    "plt.plot(x2, x2**2, 'b.-', markersize = 10, label = 'x**2')\n",
    "plt.plot(x, y, label = '2x', color = 'red', linestyle = '--', linewidth = 2, marker = '.', markersize = 10, markeredgecolor = 'black')\n",
    "plt.title('A first of many')\n",
    "plt.xlabel('X axis')\n",
    "plt.ylabel('Y axis')\n",
    "plt.legend()\n",
    "plt.show()"
   ]
  },
  {
   "cell_type": "code",
   "execution_count": null,
   "metadata": {},
   "outputs": [],
   "source": []
  }
 ],
 "metadata": {
  "kernelspec": {
   "display_name": "base",
   "language": "python",
   "name": "python3"
  },
  "language_info": {
   "codemirror_mode": {
    "name": "ipython",
    "version": 3
   },
   "file_extension": ".py",
   "mimetype": "text/x-python",
   "name": "python",
   "nbconvert_exporter": "python",
   "pygments_lexer": "ipython3",
   "version": "3.10.10"
  }
 },
 "nbformat": 4,
 "nbformat_minor": 2
}

{
 "cells": [
  {
   "cell_type": "markdown",
   "metadata": {},
   "source": [
    "## Binary Trees\n"
   ]
  },
  {
   "cell_type": "markdown",
   "metadata": {},
   "source": [
    "But before that, we're going to look at tree traversals. \\\n",
    "We don't have to create the stack ourselves because recursion maintains the correct order for us.\n"
   ]
  },
  {
   "cell_type": "code",
   "execution_count": null,
   "metadata": {},
   "outputs": [],
   "source": [
    "# Tree traversal\n",
    "class Node:\n",
    "    def __init__(self, item) -> None:\n",
    "        self.right = None\n",
    "        self.left = None\n",
    "        self.val = item\n",
    "\n",
    "\n",
    "def inorder(root):\n",
    "    if root:\n",
    "        # go to left\n",
    "        inorder(root.left)\n",
    "        # then go to root\n",
    "        print(str(root.val) + \"->\", end='')\n",
    "        # finally go to right\n",
    "        inorder(root.right)\n",
    "\n",
    "\n",
    "def preorder(root):\n",
    "    if root:\n",
    "        # go to root\n",
    "        print(str(root.val) + \"->\", end='')\n",
    "        # then go to left\n",
    "        preorder(root.left)\n",
    "        # finally go to right\n",
    "        preorder(root.right)\n",
    "\n",
    "\n",
    "def postorder(root):\n",
    "    if root:\n",
    "        # go to left\n",
    "        postorder(root.left)\n",
    "        # then go to right\n",
    "        postorder(root.right)\n",
    "        # finally go to root\n",
    "        print(str(root.val) + \"->\", end='')"
   ]
  },
  {
   "cell_type": "markdown",
   "metadata": {},
   "source": [
    "Example usage\n"
   ]
  },
  {
   "cell_type": "code",
   "execution_count": null,
   "metadata": {},
   "outputs": [],
   "source": [
    "root = Node(1)\n",
    "root.left = Node(2)\n",
    "root.right = Node(3)\n",
    "root.left.left = Node(4)\n",
    "root.left.right = Node(5)\n",
    "\n",
    "print(\"Inorder traversal \")\n",
    "inorder(root)\n",
    "\n",
    "print(\"\\nPreorder traversal \")\n",
    "preorder(root)\n",
    "\n",
    "print(\"\\nPostorder traversal \")\n",
    "postorder(root)"
   ]
  },
  {
   "cell_type": "markdown",
   "metadata": {},
   "source": [
    "### A binary tree is a tree data structure in which each parent node can have at most two children. Each node of a binary tree consists of three items:\n",
    "\n",
    "- data item\n",
    "\n",
    "- address of left child\n",
    "\n",
    "- address of right child\n"
   ]
  },
  {
   "cell_type": "code",
   "execution_count": null,
   "metadata": {},
   "outputs": [],
   "source": [
    "# Binary Tree in Python\n",
    "\n",
    "class Node:\n",
    "    def __init__(self, key):\n",
    "        self.left = None\n",
    "        self.right = None\n",
    "        self.val = key\n",
    "\n",
    "    # preorder traversal\n",
    "    def traverse_preorder(self):\n",
    "        print(self.val, end=' ')\n",
    "        if self.left:\n",
    "            self.left.traverse_preorder()\n",
    "        if self.right:\n",
    "            self.right.traverse_preorder()\n",
    "\n",
    "    # inorder traversal\n",
    "    def traverse_inorder(self):\n",
    "        if self.left:\n",
    "            self.left.traverse_inorder()\n",
    "        print(self.val, end=' ')\n",
    "        if self.right:\n",
    "            self.right.traverse_inorder()\n",
    "\n",
    "    # postorder traversal\n",
    "    def traverse_postorder(self):\n",
    "        if self.left:\n",
    "            self.left.traverse_postorder()\n",
    "        if self.right:\n",
    "            self.right.traverse_postorder()\n",
    "        print(self.val, end=' ')"
   ]
  },
  {
   "cell_type": "markdown",
   "metadata": {},
   "source": [
    "Example usage\n"
   ]
  },
  {
   "cell_type": "code",
   "execution_count": null,
   "metadata": {},
   "outputs": [],
   "source": [
    "root = Node(1)\n",
    "\n",
    "root.left = Node(2)\n",
    "root.right = Node(3)\n",
    "\n",
    "root.left.left = Node(4)\n",
    "\n",
    "print(\"Pre order Traversal: \", end=\"\")\n",
    "root.traverse_preorder()\n",
    "print(\"\\nIn order Traversal: \", end=\"\")\n",
    "root.traverse_inorder()\n",
    "print(\"\\nPost order Traversal: \", end=\"\")\n",
    "root.traverse_postorder()"
   ]
  },
  {
   "cell_type": "markdown",
   "metadata": {},
   "source": [
    "### Full binary tree\n"
   ]
  },
  {
   "cell_type": "code",
   "execution_count": null,
   "metadata": {},
   "outputs": [],
   "source": []
  }
 ],
 "metadata": {
  "kernelspec": {
   "display_name": "base",
   "language": "python",
   "name": "python3"
  },
  "language_info": {
   "codemirror_mode": {
    "name": "ipython",
    "version": 3
   },
   "file_extension": ".py",
   "mimetype": "text/x-python",
   "name": "python",
   "nbconvert_exporter": "python",
   "pygments_lexer": "ipython3",
   "version": "3.11.4"
  }
 },
 "nbformat": 4,
 "nbformat_minor": 2
}

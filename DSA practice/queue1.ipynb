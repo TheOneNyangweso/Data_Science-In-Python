{
 "cells": [
  {
   "cell_type": "code",
   "execution_count": null,
   "metadata": {},
   "outputs": [],
   "source": [
    "from collections import deque\n",
    "my_queue = deque()\n",
    "for i in range(4):\n",
    "    a = input('enter an integer : ')\n",
    "    my_queue.append(a)\n",
    "    \n",
    "print(my_queue)"
   ]
  },
  {
   "cell_type": "code",
   "execution_count": null,
   "metadata": {},
   "outputs": [],
   "source": [
    "# append() enqueues an item while popleft() is used to dequeue an item\n",
    "print(my_queue.appendleft(91))"
   ]
  },
  {
   "cell_type": "code",
   "execution_count": null,
   "metadata": {},
   "outputs": [],
   "source": [
    "# difference btwn pop() and popleft()\n",
    "print(my_queue.pop())\n",
    "print(my_queue.popleft())\n"
   ]
  },
  {
   "cell_type": "code",
   "execution_count": null,
   "metadata": {},
   "outputs": [],
   "source": [
    "class Queue:\n",
    "    def __init__(self, q : deque):\n",
    "        self.queue = q\n",
    "    \n",
    "    def enqueue(self, *value):\n",
    "        for i in range(len(value)):\n",
    "            self.queue.append(value[i])\n",
    "        \n",
    "    def dequeue(self):\n",
    "        if (len(self.queue) > 0):\n",
    "           a = self.queue.popleft()\n",
    "           print(f'{a} removed from queue')\n",
    "        else:\n",
    "            return None\n",
    "        \n",
    "    def get_size(self):\n",
    "        size = len(self.queue)\n",
    "        return size\n",
    "    \n",
    "    def __str__(self) -> str:\n",
    "        return str(self.queue)"
   ]
  },
  {
   "cell_type": "code",
   "execution_count": null,
   "metadata": {},
   "outputs": [],
   "source": [
    "my_queue_1 = Queue(deque())\n",
    "my_queue_1.enqueue(1,2,3,4,52,7,98,1) "
   ]
  },
  {
   "cell_type": "code",
   "execution_count": null,
   "metadata": {},
   "outputs": [],
   "source": [
    "my_queue_1.__str__()"
   ]
  },
  {
   "cell_type": "code",
   "execution_count": null,
   "metadata": {},
   "outputs": [],
   "source": [
    "my_queue_1.get_size()"
   ]
  },
  {
   "cell_type": "code",
   "execution_count": null,
   "metadata": {},
   "outputs": [],
   "source": [
    "my_queue_1.dequeue()"
   ]
  },
  {
   "cell_type": "code",
   "execution_count": null,
   "metadata": {},
   "outputs": [],
   "source": []
  }
 ],
 "metadata": {
  "kernelspec": {
   "display_name": "Python 3",
   "language": "python",
   "name": "python3"
  },
  "language_info": {
   "codemirror_mode": {
    "name": "ipython",
    "version": 3
   },
   "file_extension": ".py",
   "mimetype": "text/x-python",
   "name": "python",
   "nbconvert_exporter": "python",
   "pygments_lexer": "ipython3",
   "version": "3.10.6"
  }
 },
 "nbformat": 4,
 "nbformat_minor": 2
}

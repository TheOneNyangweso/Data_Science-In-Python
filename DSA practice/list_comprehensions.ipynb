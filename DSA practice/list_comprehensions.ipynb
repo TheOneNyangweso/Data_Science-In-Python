{
 "cells": [
  {
   "cell_type": "code",
   "execution_count": null,
   "metadata": {},
   "outputs": [],
   "source": [
    "import random"
   ]
  },
  {
   "cell_type": "code",
   "execution_count": null,
   "metadata": {},
   "outputs": [],
   "source": [
    "under_10 = [x for x in range(10)]\n",
    "print('under_10: '+ str(under_10))"
   ]
  },
  {
   "cell_type": "code",
   "execution_count": null,
   "metadata": {},
   "outputs": [],
   "source": [
    "squares = [x**2 for x in under_10]\n",
    "print('squares of under_10 ' + str(squares))"
   ]
  },
  {
   "cell_type": "code",
   "execution_count": null,
   "metadata": {},
   "outputs": [],
   "source": [
    "odd = [x for x in range(10) if x % 2 == 1]\n",
    "print('odd no.s under_10 : ' + str(odd))"
   ]
  },
  {
   "cell_type": "code",
   "execution_count": null,
   "metadata": {},
   "outputs": [],
   "source": [
    "s = '1 2 3 4 5 6 sds4 34 sadd1'\n",
    "nums = [x for x in s if x.isnumeric()]\n",
    "print('nums : ' + ''.join(nums))"
   ]
  },
  {
   "cell_type": "code",
   "execution_count": null,
   "metadata": {},
   "outputs": [],
   "source": [
    "names = ['sam','moruri', 'nyamweya']\n",
    "idx = [k for k,v in enumerate(names) if v.lower() == 'sam']\n",
    "print('index = ' + str(idx[0]))"
   ]
  },
  {
   "cell_type": "code",
   "execution_count": null,
   "metadata": {},
   "outputs": [],
   "source": [
    "letters = [x for x in 'ABCDEFGH']\n",
    "random.shuffle(letters)\n",
    "lts = [a for a in letters if (a != 'C' and a != 'G')]\n",
    "print(letters)\n",
    "print(lts)"
   ]
  },
  {
   "cell_type": "code",
   "execution_count": null,
   "metadata": {},
   "outputs": [],
   "source": [
    "a = [[1,2],[3,4]]\n",
    "new_l = [x for b in a for x in b]\n",
    "print(new_l)"
   ]
  },
  {
   "cell_type": "code",
   "execution_count": null,
   "metadata": {},
   "outputs": [],
   "source": []
  }
 ],
 "metadata": {
  "kernelspec": {
   "display_name": "Python 3",
   "language": "python",
   "name": "python3"
  },
  "language_info": {
   "codemirror_mode": {
    "name": "ipython",
    "version": 3
   },
   "file_extension": ".py",
   "mimetype": "text/x-python",
   "name": "python",
   "nbconvert_exporter": "python",
   "pygments_lexer": "ipython3",
   "version": "3.10.6"
  }
 },
 "nbformat": 4,
 "nbformat_minor": 2
}
